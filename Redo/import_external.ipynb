{
 "cells": [
  {
   "cell_type": "code",
   "execution_count": 2,
   "id": "c4ad578c",
   "metadata": {},
   "outputs": [],
   "source": [
    "import pandas as pd\n",
    "import numpy as np\n"
   ]
  },
  {
   "cell_type": "code",
   "execution_count": 6,
   "id": "6fbc6111",
   "metadata": {},
   "outputs": [
    {
     "name": "stdout",
     "output_type": "stream",
     "text": [
      "[[1.2034  1.20401 1.1944  1.1965 ]\n",
      " [1.1961  1.2109  1.1946  1.2089 ]\n",
      " [1.209   1.213   1.2077  1.2123 ]\n",
      " ...\n",
      " [1.1618  1.16477 1.16017 1.1618 ]\n",
      " [1.16317 1.16496 1.16187 1.16317]\n",
      " [1.16518 1.16686 1.16279 1.16518]]\n"
     ]
    }
   ],
   "source": [
    "\n",
    "my_data = pd.read_excel('my_data.xlsx')\n",
    "my_data = np.array(my_data)\n",
    "\n",
    "print(my_data)"
   ]
  },
  {
   "cell_type": "code",
   "execution_count": null,
   "id": "04d8bece",
   "metadata": {},
   "outputs": [],
   "source": []
  }
 ],
 "metadata": {
  "kernelspec": {
   "display_name": "base",
   "language": "python",
   "name": "python3"
  },
  "language_info": {
   "codemirror_mode": {
    "name": "ipython",
    "version": 3
   },
   "file_extension": ".py",
   "mimetype": "text/x-python",
   "name": "python",
   "nbconvert_exporter": "python",
   "pygments_lexer": "ipython3",
   "version": "3.10.13"
  }
 },
 "nbformat": 4,
 "nbformat_minor": 5
}
