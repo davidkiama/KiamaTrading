{
 "cells": [
  {
   "cell_type": "code",
   "execution_count": 1,
   "id": "13140f04",
   "metadata": {},
   "outputs": [],
   "source": [
    "import pandas as pd\n",
    "import numpy as np\n",
    "\n",
    "\n"
   ]
  },
  {
   "cell_type": "code",
   "execution_count": null,
   "id": "fc155ee9",
   "metadata": {},
   "outputs": [
    {
     "data": {
      "text/plain": [
       "array([[1.2034 , 1.20401, 1.1944 , 1.1965 ],\n",
       "       [1.1961 , 1.2109 , 1.1946 , 1.2089 ],\n",
       "       [1.209  , 1.213  , 1.2077 , 1.2123 ],\n",
       "       ...,\n",
       "       [1.1618 , 1.16477, 1.16017, 1.1618 ],\n",
       "       [1.16317, 1.16496, 1.16187, 1.16317],\n",
       "       [1.16518, 1.16686, 1.16279, 1.16518]], shape=(5685, 4))"
      ]
     },
     "execution_count": 5,
     "metadata": {},
     "output_type": "execute_result"
    }
   ],
   "source": [
    "my_data = pd.read_excel('my_data.xlsx')\n",
    "my_data = np.array(my_data)\n",
    "\n",
    "my_data"
   ]
  },
  {
   "cell_type": "code",
   "execution_count": 9,
   "id": "29a639a6",
   "metadata": {},
   "outputs": [],
   "source": [
    "def add_column(data, times):\n",
    "    for i in range(1, times+1):\n",
    "        new = np.zeros((len(data), 1), dtype=float)\n",
    "        data = np.append(data, new, axis=1)\n",
    "        \n",
    "    return data\n",
    "\n",
    "\n",
    "def delete_column(data, index, times):\n",
    "    for i in range(1, times +1):\n",
    "        data = np.delete(data, index, axis=1)\n",
    "    return data"
   ]
  },
  {
   "cell_type": "code",
   "execution_count": 16,
   "id": "1dbe91ba",
   "metadata": {},
   "outputs": [
    {
     "data": {
      "text/plain": [
       "array([[1.2034 , 1.20401, 1.1944 , ..., 0.     , 0.     , 0.     ],\n",
       "       [1.1961 , 1.2109 , 1.1946 , ..., 0.     , 0.     , 0.     ],\n",
       "       [1.209  , 1.213  , 1.2077 , ..., 0.     , 0.     , 0.     ],\n",
       "       ...,\n",
       "       [1.1618 , 1.16477, 1.16017, ..., 0.     , 0.     , 0.     ],\n",
       "       [1.16317, 1.16496, 1.16187, ..., 0.     , 0.     , 0.     ],\n",
       "       [1.16518, 1.16686, 1.16279, ..., 0.     , 0.     , 0.     ]],\n",
       "      shape=(5685, 9))"
      ]
     },
     "execution_count": 16,
     "metadata": {},
     "output_type": "execute_result"
    }
   ],
   "source": [
    "my_data_columns_added = add_column(my_data, 5)\n",
    "my_data_columns_added"
   ]
  },
  {
   "cell_type": "code",
   "execution_count": 17,
   "id": "e5ddd7d4",
   "metadata": {},
   "outputs": [
    {
     "data": {
      "text/plain": [
       "array([[1.2034 , 1.20401, 1.1944 , 1.1965 , 0.     ],\n",
       "       [1.1961 , 1.2109 , 1.1946 , 1.2089 , 0.     ],\n",
       "       [1.209  , 1.213  , 1.2077 , 1.2123 , 0.     ],\n",
       "       ...,\n",
       "       [1.1618 , 1.16477, 1.16017, 1.1618 , 0.     ],\n",
       "       [1.16317, 1.16496, 1.16187, 1.16317, 0.     ],\n",
       "       [1.16518, 1.16686, 1.16279, 1.16518, 0.     ]], shape=(5685, 5))"
      ]
     },
     "execution_count": 17,
     "metadata": {},
     "output_type": "execute_result"
    }
   ],
   "source": [
    "my_data_columns_deleted = delete_column(my_data_columns_added, 4, 4)\n",
    "my_data_columns_deleted"
   ]
  },
  {
   "cell_type": "code",
   "execution_count": 18,
   "id": "954764a3",
   "metadata": {},
   "outputs": [],
   "source": [
    "def add_row(data, times):\n",
    "    for i in range(1, times+1):\n",
    "        columns = np.shape(data)[1]\n",
    "        new = np.zeros((1, columns), dtype=float)\n",
    "        data = np.append(data, new, axis=0)\n",
    "        return data\n",
    "\n",
    "def delete_row(data, number):\n",
    "    data = data[number:, ]\n",
    "    return data"
   ]
  },
  {
   "cell_type": "markdown",
   "id": "1537d3bc",
   "metadata": {},
   "source": [
    "# An array has the following structure: array[row, column]\n",
    "# Referring to the whole my_data array\n",
    "my_data\n",
    "# Referring to the first 100 rows inside the array\n",
    "my_data[:100, ]\n",
    "# Referring to the first 100 rows of the first two columns \n",
    "my_data[:100, 0:2]\n",
    "# Referring to all the rows of the seventh column \n",
    "my_data[:, 6]\n",
    "# Referring to the last 500 rows of the array\n",
    "my_data[-500:, ]\n",
    "# Referring to the first row of the first column \n",
    "my_data[0, 0]\n",
    "# Referring to the last row of the last column\n",
    "my_data[-1, -1]"
   ]
  },
  {
   "cell_type": "code",
   "execution_count": null,
   "id": "fb1960f6",
   "metadata": {},
   "outputs": [],
   "source": []
  }
 ],
 "metadata": {
  "kernelspec": {
   "display_name": "base",
   "language": "python",
   "name": "python3"
  },
  "language_info": {
   "codemirror_mode": {
    "name": "ipython",
    "version": 3
   },
   "file_extension": ".py",
   "mimetype": "text/x-python",
   "name": "python",
   "nbconvert_exporter": "python",
   "pygments_lexer": "ipython3",
   "version": "3.10.13"
  }
 },
 "nbformat": 4,
 "nbformat_minor": 5
}
