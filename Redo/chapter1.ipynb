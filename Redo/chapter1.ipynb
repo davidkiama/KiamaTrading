{
 "cells": [
  {
   "cell_type": "code",
   "execution_count": 1,
   "id": "792cc68f",
   "metadata": {},
   "outputs": [],
   "source": [
    "import datetime\n",
    "import pytz\n",
    "import pandas as pd\n",
    "import yfinance as yf\n",
    "import numpy as np"
   ]
  },
  {
   "cell_type": "code",
   "execution_count": 4,
   "id": "a5f98f13",
   "metadata": {},
   "outputs": [],
   "source": [
    "frame_M1 = '1m'\n",
    "frame_M15 = '15m'\n",
    "frame_M30 = '30m'\n",
    "frame_H1 = '1h'\n",
    "frame_H4 = '4h'\n",
    "frame_D1 = '1d'\n",
    "frame_W1 = '1wk'\n",
    "\n",
    "now = datetime.datetime.now()\n",
    "\n",
    "# Matching your MT5 asset list with Yahoo tickers\n",
    "assets = {\n",
    "    'EURUSD': 'EURUSD=X',\n",
    "    'USDCHF': 'USDCHF=X',\n",
    "    'GBPUSD': 'GBPUSD=X',\n",
    "    'USDCAD': 'USDCAD=X',\n",
    "    'BTCUSD': 'BTC-USD',\n",
    "    'ETHUSD': 'ETH-USD',\n",
    "    'XAUUSD': 'XAUUSD=X',\n",
    "    'XAGUSD': 'XAGUSD=X',\n",
    "    'SP500m': '^GSPC',\n",
    "    'UK100': '^FTSE'\n",
    "}"
   ]
  },
  {
   "cell_type": "code",
   "execution_count": 14,
   "id": "daec21b4",
   "metadata": {},
   "outputs": [],
   "source": [
    "# def get_quotes(time_frame, year=2024, month=1, day=1, asset='EURUSD'):\n",
    "#     try:\n",
    "#         timezone = pytz.timezone('Europe/Paris')\n",
    "#         time_from = datetime.datetime(year, month, day, tzinfo=timezone)\n",
    "#         time_to = datetime.datetime.now(timezone)\n",
    "        \n",
    "#         symbol = assets[asset]\n",
    "        \n",
    "#         df = yf.download(symbol, start=time_from.strftime(\n",
    "#             '%Y-%m-%d'), end=time_to.strftime('%Y-%m-%d'), interval=time_frame, progress=False )\n",
    "        \n",
    "#         if df.empty:\n",
    "#             print(f'No data for {asset}. Check ticker symbol')\n",
    "#             return pd.DataFrame()\n",
    "        \n",
    "#         df = df.rename(columns={'Open': 'open',\n",
    "#                                 'High': 'high',\n",
    "#                                 'Low': 'low',\n",
    "#                                 'Close': 'close',\n",
    "#                                 'Volume': 'tick_volume'})\n",
    "#         df.reset_index(inplace=True)\n",
    "#         return df\n",
    "#     except Exception as e:\n",
    "#         print(f\"Error fetching data for {asset}: {e}\")\n",
    "#         return pd.DataFrame()\n",
    "    \n",
    "    \n",
    "def get_quotes(time_frame, year=2005, month=1, day=1, asset='EURUSD'):\n",
    "    try:\n",
    "        timezone = pytz.timezone('Europe/Paris')\n",
    "        time_from = datetime.datetime(year, month, day, tzinfo=timezone)\n",
    "        time_to = datetime.datetime.now(timezone)\n",
    "\n",
    "        symbol = assets[asset]\n",
    "        df = yf.download(\n",
    "            symbol,\n",
    "            start=time_from.strftime('%Y-%m-%d'),\n",
    "            end=time_to.strftime('%Y-%m-%d'),\n",
    "            interval=time_frame,\n",
    "            progress=False\n",
    "        )\n",
    "\n",
    "        if df.empty:\n",
    "            print(f\"No data for {asset}. Check ticker symbol or timeframe.\")\n",
    "            return pd.DataFrame()\n",
    "\n",
    "        df = df.rename(columns={\n",
    "            'Open': 'open',\n",
    "            'High': 'high',\n",
    "            'Low': 'low',\n",
    "            'Close': 'close',\n",
    "            'Volume': 'tick_volume'\n",
    "        })\n",
    "\n",
    "        df.reset_index(inplace=True)\n",
    "        return df\n",
    "\n",
    "    except Exception as e:\n",
    "        print(f\"Error fetching data for {asset}: {e}\")\n",
    "        return pd.DataFrame()\n",
    "\n",
    "\n",
    "def mass_import(asset_index, time_frame):\n",
    "    \n",
    "    asset_list = list(assets.keys())\n",
    "    asset = asset_list[asset_index]\n",
    "    if time_frame == 'H1':\n",
    "        data = get_quotes(frame_H1, 2013, 1, 1, asset=asset)\n",
    "    elif time_frame == 'D1':\n",
    "        data = get_quotes(frame_D1, 2000, 1, 1, asset=asset)\n",
    "    else:\n",
    "        data = get_quotes(frame_D1, 2000, 1, 1, asset=asset)\n",
    "\n",
    "    if data.empty:\n",
    "        print(f\"No data found for {asset} on timeframe {time_frame}\")\n",
    "        return np.array([])\n",
    "\n",
    "    # Return only OHLC like MT5 version\n",
    "    data = data.loc[:, ['open', 'high', 'low', 'close']].values\n",
    "    data = np.round(data, decimals=5)\n",
    "    return data"
   ]
  },
  {
   "cell_type": "code",
   "execution_count": 15,
   "id": "26d746bb",
   "metadata": {},
   "outputs": [
    {
     "name": "stderr",
     "output_type": "stream",
     "text": [
      "/var/folders/pp/x__1tf4n7j98nw_8bwlmgxj00000gn/T/ipykernel_26611/1567807126.py:35: FutureWarning: YF.download() has changed argument auto_adjust default to True\n",
      "  df = yf.download(\n"
     ]
    }
   ],
   "source": [
    "my_data = mass_import(0, 'D1')"
   ]
  },
  {
   "cell_type": "code",
   "execution_count": 16,
   "id": "8ee766b4",
   "metadata": {},
   "outputs": [
    {
     "data": {
      "text/plain": [
       "array([[1.2034 , 1.20401, 1.1944 , 1.1965 ],\n",
       "       [1.1961 , 1.2109 , 1.1946 , 1.2089 ],\n",
       "       [1.209  , 1.213  , 1.2077 , 1.2123 ],\n",
       "       ...,\n",
       "       [1.1618 , 1.16477, 1.16017, 1.1618 ],\n",
       "       [1.16317, 1.16496, 1.16187, 1.16317],\n",
       "       [1.16518, 1.16686, 1.16279, 1.16518]], shape=(5685, 4))"
      ]
     },
     "execution_count": 16,
     "metadata": {},
     "output_type": "execute_result"
    }
   ],
   "source": [
    "my_data"
   ]
  },
  {
   "cell_type": "code",
   "execution_count": 19,
   "id": "722e6437",
   "metadata": {},
   "outputs": [],
   "source": [
    "# Save to Excel (optional)\n",
    "if my_data.size > 0:\n",
    "    df = pd.DataFrame(my_data, columns=['Open', 'High', 'Low', 'Close'])\n",
    "    df.to_excel('my_data.xlsx', index=False)\n",
    " \n",
    "    \n",
    "else:\n",
    "    print(\"No data to save.\")"
   ]
  },
  {
   "cell_type": "code",
   "execution_count": null,
   "id": "415b1769",
   "metadata": {},
   "outputs": [],
   "source": []
  }
 ],
 "metadata": {
  "kernelspec": {
   "display_name": "base",
   "language": "python",
   "name": "python3"
  },
  "language_info": {
   "codemirror_mode": {
    "name": "ipython",
    "version": 3
   },
   "file_extension": ".py",
   "mimetype": "text/x-python",
   "name": "python",
   "nbconvert_exporter": "python",
   "pygments_lexer": "ipython3",
   "version": "3.10.13"
  }
 },
 "nbformat": 4,
 "nbformat_minor": 5
}
